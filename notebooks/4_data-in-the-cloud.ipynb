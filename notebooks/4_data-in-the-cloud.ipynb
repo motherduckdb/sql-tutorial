{
 "cells": [
  {
   "cell_type": "markdown",
   "id": "7351aa6f",
   "metadata": {},
   "source": [
    "<a target=\"_blank\" href=\"https://colab.research.google.com/github/motherduckdb/sql-tutorial\">\n",
    "  <img src=\"https://colab.research.google.com/assets/colab-badge.svg\" alt=\"Open In Colab\"/>\n",
    "</a>\n",
    "\n",
    "# 4. Collaborating with data in the Cloud\n",
    "\n",
    "To start off, install the latest version of `duckdb` and `magic-duckdb` to run this notebook."
   ]
  },
  {
   "cell_type": "code",
   "execution_count": null,
   "id": "1694db67",
   "metadata": {},
   "outputs": [],
   "source": [
    "!pip install --upgrade duckdb magic-duckdb -q\n",
    "%load_ext magic_duckdb"
   ]
  },
  {
   "cell_type": "markdown",
   "id": "32dbf839",
   "metadata": {},
   "source": [
    "We're also going to create a helper variable `IN_COLAB` to see if we're running Google Colab. This will come in handy later."
   ]
  },
  {
   "cell_type": "code",
   "execution_count": null,
   "id": "02174cdb",
   "metadata": {},
   "outputs": [],
   "source": [
    "try:\n",
    "  import google.colab\n",
    "  IN_COLAB = True\n",
    "except:\n",
    "  IN_COLAB = False"
   ]
  },
  {
   "cell_type": "markdown",
   "id": "e185e667",
   "metadata": {},
   "source": [
    "This cell downloads the answers for the exercises."
   ]
  },
  {
   "cell_type": "code",
   "execution_count": null,
   "id": "958f4b74",
   "metadata": {},
   "outputs": [],
   "source": [
    "!wget https://raw.githubusercontent.com/motherduckdb/sql-tutorial/main/answers/answers_4.zip -q \n",
    "!unzip -o answers_4.zip -d answers "
   ]
  },
  {
   "cell_type": "markdown",
   "id": "54c0038e",
   "metadata": {},
   "source": [
    "## Sign up for MotherDuck\n",
    "\n",
    "If you haven't already done it, [sign up for MotherDuck](https://app.motherduck.com/?auth_flow=signup).\n",
    "\n",
    "To connect to MotherDuck, all you need to do is connect to a `duckdb` database! Your MotherDuck databases will be accessible with the `md:` prefix. For example, to connect to the `sample_data` database and show the tables, uncomment the following lines and run:"
   ]
  },
  {
   "cell_type": "code",
   "execution_count": null,
   "id": "3bd89f1a",
   "metadata": {},
   "outputs": [],
   "source": [
    "import duckdb\n",
    "con = duckdb.connect(\"md:sample_data\")"
   ]
  },
  {
   "cell_type": "markdown",
   "id": "a63c8e3f",
   "metadata": {},
   "source": [
    "However, this will throw an error! You actually need to specify your authentication token to connect to MotherDuck.\n",
    "\n",
    "To do so, you can [copy your token](https://app.motherduck.com/token-request?appName=Jupyter) from Motherduck and add it to your notebook \"Secrets\".\n",
    "\n",
    "If you are using Google Colab, you can click on the \"Secrets\" tab and add a new \"token\" secret there. See how to do that in the screenshot below.\n",
    "\n",
    "<img src=\"https://github.com/motherduckdb/sql-tutorial/blob/main/notebooks/Colab_Secret.png?raw=true\" width=400>\n",
    "\n",
    "Now, you can get your token from the secrets manager and load it into an environment variable. After this, you can connect to MotherDuck without any extra authentication steps!"
   ]
  },
  {
   "cell_type": "code",
   "execution_count": null,
   "id": "b9f48a16",
   "metadata": {},
   "outputs": [],
   "source": [
    "import os\n",
    "\n",
    "if IN_COLAB:\n",
    "  from google.colab import userdata\n",
    "  os.environ[\"motherduck_token\"] = userdata.get('token')"
   ]
  },
  {
   "cell_type": "markdown",
   "id": "5bdc0baf",
   "metadata": {},
   "source": [
    "If you're running in a Jupyter Notebook elsewhere, you can uncomment and run the following, and paste your token in the input field:"
   ]
  },
  {
   "cell_type": "code",
   "execution_count": null,
   "id": "4c167ddc",
   "metadata": {},
   "outputs": [],
   "source": [
    "# import getpass\n",
    "# os.environ[\"motherduck_token\"] = getpass.getpass(prompt='Password: ', stream=None)"
   ]
  },
  {
   "cell_type": "markdown",
   "id": "c448e5a0",
   "metadata": {
    "cell_type": "markdown"
   },
   "source": [
    "**Exercise 4.01**\n",
    "\n",
    "Create a connection to MotherDuck and show all tables in your `sample_data` database. You can use the `SHOW TABLES` command that is documented [here](https://duckdb.org/docs/guides/meta/list_tables.html)."
   ]
  },
  {
   "cell_type": "markdown",
   "id": "be7a4516",
   "metadata": {
    "cell_type": "markdown"
   },
   "source": [
    "## Run a query against DuckDB in the Cloud\n",
    "\n",
    "You are now all ready to go and query your Cloud data warehouse! One example in the `sample_data` database is the `service_requests` table, which contains [New York City 311 Service Requests](https://motherduck.com/docs/getting-started/sample-data-queries/nyc-311-data/) with requests to the city's complaint service from 2010 to the present.\n",
    "\n",
    "To query the data, you'll want to fully specify the table name with the following format:\n",
    "\n",
    "```sql\n",
    "<database name>.<schema>.<table name>\n",
    "```\n",
    "\n",
    "For example, you can run the below cell to get the service requests between March 27th and 31st of 2022:"
   ]
  },
  {
   "cell_type": "code",
   "execution_count": null,
   "id": "b42a6c5b",
   "metadata": {},
   "outputs": [],
   "source": [
    "%%dql -co con\n",
    "SELECT\n",
    "  created_date, agency_name, complaint_type,\n",
    "  descriptor, incident_address, resolution_description\n",
    "\n",
    "FROM\n",
    "  sample_data.nyc.service_requests\n",
    "WHERE\n",
    "  created_date >= '2022-03-27' AND\n",
    "  created_date <= '2022-03-31';"
   ]
  },
  {
   "cell_type": "markdown",
   "id": "7e363586",
   "metadata": {
    "cell_type": "markdown"
   },
   "source": [
    "**Exercise 4.02**\n",
    "\n",
    "Run `DESCRIBE` on the `sample_data.who.ambient_air_quality` table to inspect the column names. Write a query that gets the average concentrations of PM1.0 and PM2.5 particles for the `'United States of America'`, for the last 10 years, grouped and ordered by year."
   ]
  },
  {
   "cell_type": "code",
   "execution_count": null,
   "id": "357195bf",
   "metadata": {},
   "outputs": [],
   "source": [
    "# Uncomment and run to show solution\n",
    "# !cat ./answers/answer_4.02.py"
   ]
  },
  {
   "cell_type": "markdown",
   "id": "7f8f3959",
   "metadata": {},
   "source": [
    "## Load data from Huggingface\n",
    "\n",
    "Now, let's try to load some data from a data source into MotherDuck. HuggingFace has recently released an extension for DuckDB, that lets you access and query their entire [datasets library](https://huggingface.co/datasets)!\n",
    "\n",
    "To query a HuggingFace dataset, you can run:"
   ]
  },
  {
   "cell_type": "code",
   "execution_count": null,
   "id": "314a1044",
   "metadata": {},
   "outputs": [],
   "source": [
    "%%dql -co con\n",
    "SELECT * FROM read_parquet('hf://datasets/datonic/threatened_animal_species/data/threatened_animal_species.parquet');"
   ]
  },
  {
   "cell_type": "markdown",
   "id": "2325cde9",
   "metadata": {},
   "source": [
    "Before we create a new table with this data, let's first swap to a different database. You can do so by creating a new DuckDB connection, or by changing the database with the `USE` statement. For example, to connect to your default database, `my_db`, run:"
   ]
  },
  {
   "cell_type": "code",
   "execution_count": null,
   "id": "16220595",
   "metadata": {},
   "outputs": [],
   "source": [
    "%%dql -co con\n",
    "USE my_db;"
   ]
  },
  {
   "cell_type": "markdown",
   "id": "652d0fa9",
   "metadata": {
    "cell_type": "markdown"
   },
   "source": [
    "**Exercise 4.03**\n",
    "\n",
    "Create a new table called `animals` in your MotherDuck database `md:my_db` based on the `datonic/threatened_animal_species` dataset."
   ]
  },
  {
   "cell_type": "code",
   "execution_count": null,
   "id": "2afd68fc",
   "metadata": {},
   "outputs": [],
   "source": [
    "# Uncomment and run to show solution\n",
    "# !cat ./answers/answer_4.03.py"
   ]
  },
  {
   "cell_type": "markdown",
   "id": "3c0b113a",
   "metadata": {
    "cell_type": "markdown"
   },
   "source": [
    "**Exercise 4.04**\n",
    "\n",
    "DuckDB releases are each named after a duck! Let's load [this data](https://duckdb.org/data/duckdb-releases.csv) into a new table called `duckdb_ducks`. You can use `read_csv` to load the data directly from the HTTP URL: `https://duckdb.org/data/duckdb-releases.csv`."
   ]
  },
  {
   "cell_type": "code",
   "execution_count": null,
   "id": "75b18591",
   "metadata": {},
   "outputs": [],
   "source": [
    "# Uncomment and run to show solution\n",
    "# !cat ./answers/answer_4.04.py"
   ]
  },
  {
   "cell_type": "markdown",
   "id": "df0d1b2d",
   "metadata": {},
   "source": [
    "## Sharing is caring: Teach your data to fly!\n",
    "\n",
    "Now, we have two tables that we can join together and share with our colleagues!\n",
    "\n",
    "Let's inspect them and take a look at the columns we have available."
   ]
  },
  {
   "cell_type": "code",
   "execution_count": null,
   "id": "093956c9",
   "metadata": {},
   "outputs": [],
   "source": [
    "%%dql -co con\n",
    "DESCRIBE animals;"
   ]
  },
  {
   "cell_type": "code",
   "execution_count": null,
   "id": "68ee2e50",
   "metadata": {},
   "outputs": [],
   "source": [
    "%%dql -co con\n",
    "DESCRIBE duckdb_ducks;"
   ]
  },
  {
   "cell_type": "markdown",
   "id": "f9c1fa75",
   "metadata": {},
   "source": [
    "Now, we can get the endangered species status of all DuckDB ducks by joining the two."
   ]
  },
  {
   "cell_type": "markdown",
   "id": "837bf513",
   "metadata": {
    "cell_type": "markdown"
   },
   "source": [
    "**Exercise 4.05**\n",
    "\n",
    "Create a new table called `duckdb_species` that joins the `duckdb_ducks` and `animals` tables on the scientific name."
   ]
  },
  {
   "cell_type": "code",
   "execution_count": null,
   "id": "78974ebc",
   "metadata": {},
   "outputs": [],
   "source": [
    "# Uncomment and run to show solution\n",
    "# !cat ./answers/answer_4.05.py"
   ]
  },
  {
   "cell_type": "markdown",
   "id": "c071089b",
   "metadata": {},
   "source": [
    "To share your database, you can run:"
   ]
  },
  {
   "cell_type": "code",
   "execution_count": null,
   "id": "db86fcca",
   "metadata": {},
   "outputs": [],
   "source": [
    "%%dql -co con -o df\n",
    "CREATE SHARE duck_share FROM my_db (ACCESS UNRESTRICTED);"
   ]
  },
  {
   "cell_type": "markdown",
   "id": "e4aceeaf",
   "metadata": {},
   "source": [
    "Now you can print the share URL:"
   ]
  },
  {
   "cell_type": "code",
   "execution_count": null,
   "id": "1d3d3635",
   "metadata": {},
   "outputs": [],
   "source": [
    "print(df.share_url.iloc[0])"
   ]
  },
  {
   "cell_type": "markdown",
   "id": "a7e28cbe",
   "metadata": {
    "cell_type": "markdown"
   },
   "source": [
    "**Exercise 4.06**\n",
    "\n",
    "Check out these datasets from Huggingface: https://huggingface.co/datasets. Pick one, create a share and send it to your neighbor!"
   ]
  },
  {
   "cell_type": "markdown",
   "id": "347a3384",
   "metadata": {
    "cell_type": "markdown"
   },
   "source": [
    "To attach a share into your Cloud data warehouse, run:\n",
    "\n",
    "```sql\n",
    "ATTACH '<share_url>';\n",
    "```\n",
    "\n",
    "For example, to load the [Mosaic example datasets](https://github.com/motherduckdb/wasm-client/tree/main), run"
   ]
  },
  {
   "cell_type": "code",
   "execution_count": null,
   "id": "3f29f5bd",
   "metadata": {},
   "outputs": [],
   "source": [
    "%%dql -co con\n",
    "ATTACH 'md:_share/mosaic_examples/b01cfda8-239e-4148-a228-054b94cdc3b4';"
   ]
  },
  {
   "cell_type": "markdown",
   "id": "f2dfb271",
   "metadata": {},
   "source": [
    "You can then inspect the database and query the data like so:"
   ]
  },
  {
   "cell_type": "code",
   "execution_count": null,
   "id": "2c7f7463",
   "metadata": {},
   "outputs": [],
   "source": [
    "%%dql -co con\n",
    "USE mosaic_examples;\n",
    "SHOW TABLES;"
   ]
  },
  {
   "cell_type": "code",
   "execution_count": null,
   "id": "e9b01a30",
   "metadata": {},
   "outputs": [],
   "source": [
    "%%dql -co con\n",
    "SELECT * FROM seattle_weather;"
   ]
  },
  {
   "cell_type": "markdown",
   "id": "e376f1dd",
   "metadata": {
    "cell_type": "markdown"
   },
   "source": [
    "**Exercise 4.07**\n",
    "\n",
    "Attach the share you received from your neighbor and inspect the tables."
   ]
  },
  {
   "cell_type": "markdown",
   "id": "ea0f9622",
   "metadata": {
    "cell_type": "markdown"
   },
   "source": [
    "## Detaching and removing your shares\n",
    "\n",
    "To detach a database someone shared with you, make sure it's not selected, and run `DETACH`:"
   ]
  },
  {
   "cell_type": "code",
   "execution_count": null,
   "id": "1963e37d",
   "metadata": {},
   "outputs": [],
   "source": [
    "%%dql -co con\n",
    "USE my_db;\n",
    "DETACH mosaic_examples;"
   ]
  },
  {
   "cell_type": "markdown",
   "id": "625ee286",
   "metadata": {},
   "source": [
    "To drop the share you created, simply run:"
   ]
  },
  {
   "cell_type": "code",
   "execution_count": null,
   "id": "bfabb25e",
   "metadata": {},
   "outputs": [],
   "source": [
    "%%dql -co con\n",
    "DROP SHARE duck_share;"
   ]
  }
 ],
 "metadata": {
  "kernelspec": {
   "display_name": "Python 3",
   "language": "python",
   "name": "python3"
  }
 },
 "nbformat": 4,
 "nbformat_minor": 5
}
